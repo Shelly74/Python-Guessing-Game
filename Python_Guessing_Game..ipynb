{
 "cells": [
  {
   "cell_type": "markdown",
   "id": "b46b6549",
   "metadata": {},
   "source": [
    "# TASK 1 :You are creating a Python program to simulate a simple guessing game."
   ]
  },
  {
   "cell_type": "code",
   "execution_count": 2,
   "id": "886f83fe",
   "metadata": {},
   "outputs": [],
   "source": [
    "from random import randint"
   ]
  },
  {
   "cell_type": "code",
   "execution_count": 3,
   "id": "e1793eea",
   "metadata": {},
   "outputs": [
    {
     "name": "stdout",
     "output_type": "stream",
     "text": [
      "Welcome to the Guessing Game\n",
      "I'm thinking of a number between 1 and 50. Can you guess it?\n",
      "You have 5 attempts left\n",
      "Enter you guess: 20\n",
      "Your guess is too high, Try again! you have 4 attempts left.\n",
      "Enter you guess: a\n",
      "Input invalid! Enter a valid number.\n",
      "Enter you guess: 99\n",
      "Your guess is too high, Try again! you have 3 attempts left.\n",
      "Enter you guess: 12\n",
      "Your guess is too high, Try again! you have 2 attempts left.\n",
      "Hint : The secret number is even.\n",
      "Enter you guess: 18\n",
      "Your guess is too high, Try again! you have 1 attempts left.\n",
      "Enter you guess: 8\n",
      "Congratulations! You guessed the secret number 8 correctly.\n"
     ]
    }
   ],
   "source": [
    "def guessing_game():\n",
    "    secret_number = randint(1,50)\n",
    "    attempts = 5\n",
    "    print(\"Welcome to the Guessing Game\")\n",
    "    print(\"I'm thinking of a number between 1 and 50. Can you guess it?\")\n",
    "    print(f\"You have {attempts} attempts left\")\n",
    "    \n",
    "    while attempts >0:\n",
    "        try:\n",
    "            guess = int(input(\"Enter you guess: \"))\n",
    "        except ValueError:\n",
    "            print(\"Input invalid! Enter a valid number.\")\n",
    "            continue\n",
    "        attempts -= 1\n",
    "        \n",
    "        if guess < secret_number:\n",
    "            print(f\"Your guess is too low. Try again! you have {attempts} attempts left.\")\n",
    "        elif guess > secret_number:\n",
    "            print(f\"Your guess is too high, Try again! you have {attempts} attempts left.\")\n",
    "        else:\n",
    "            print(f\"Congratulations! You guessed the secret number {secret_number} correctly.\")\n",
    "            return\n",
    "        \n",
    "        if attempts == (5 //2):\n",
    "            if secret_number % 2==0:\n",
    "                print(\"Hint : The secret number is even.\")\n",
    "            else:\n",
    "                print(\"Hint : The secret number is odd\")\n",
    "    print(f\"GAME OVER! The secret number was {secret_number}.\")\n",
    "if __name__ == \"__main__\":\n",
    "    guessing_game()"
   ]
  },
  {
   "cell_type": "markdown",
   "id": "ac058a3e",
   "metadata": {},
   "source": [
    "# TASK 2"
   ]
  },
  {
   "cell_type": "code",
   "execution_count": 4,
   "id": "b449dc06",
   "metadata": {},
   "outputs": [
    {
     "name": "stdout",
     "output_type": "stream",
     "text": [
      "The number of vowels in the string 'Learning Python is fun and engaging.' is : 10\n"
     ]
    }
   ],
   "source": [
    "# Write a function called num_vowels that takes in a string as an argument, and returns the number of vowels in that string.\n",
    "\n",
    "def num_vowels(input1):\n",
    "    vowels = {'a','e','i','o','u'}\n",
    "    count = 0\n",
    "    for char in input1:\n",
    "        if char.lower() in vowels:\n",
    "            count+= 1\n",
    "    return count\n",
    "input1 = \"Learning Python is fun and engaging.\"\n",
    "result = num_vowels(input1)\n",
    "print(f\"The number of vowels in the string '{input1}' is : {result}\")"
   ]
  },
  {
   "cell_type": "code",
   "execution_count": 9,
   "id": "7fd26170",
   "metadata": {},
   "outputs": [
    {
     "name": "stdout",
     "output_type": "stream",
     "text": [
      "2.5 hours is equivalent to 150.0 minutes.\n"
     ]
    }
   ],
   "source": [
    "# Create a function called hours_to_min that converts hours into minutes.\n",
    "\n",
    "def hours_to_min(hours):\n",
    "    minutes = hours * 60\n",
    "    return minutes\n",
    "\n",
    "hours = 2.5\n",
    "result = hours_to_min(hours)\n",
    "print(f\"{hours} hours is equivalent to {result} minutes.\")"
   ]
  },
  {
   "cell_type": "code",
   "execution_count": 10,
   "id": "611bfcdd",
   "metadata": {},
   "outputs": [
    {
     "name": "stdout",
     "output_type": "stream",
     "text": [
      "Multiplication table for 1:\n",
      "1 x 1 = 1\n",
      "1 x 2 = 2\n",
      "1 x 3 = 3\n",
      "1 x 4 = 4\n",
      "1 x 5 = 5\n",
      "1 x 6 = 6\n",
      "1 x 7 = 7\n",
      "1 x 8 = 8\n",
      "1 x 9 = 9\n",
      "1 x 10 = 10\n",
      "1 x 11 = 11\n",
      "1 x 12 = 12\n"
     ]
    }
   ],
   "source": [
    "# Write a python function that takes in a number as an argument, and prints out the table ofthat number up to 12 times that number.\n",
    "\n",
    "def multiplication_table(number):\n",
    "    for i in range(1, 13):\n",
    "        print(f\"{number} x {i} = {number * i}\")\n",
    "\n",
    "number = 1\n",
    "print(f\"Multiplication table for {number}:\")\n",
    "multiplication_table(number)"
   ]
  },
  {
   "cell_type": "code",
   "execution_count": 11,
   "id": "c9a16fd5",
   "metadata": {},
   "outputs": [
    {
     "name": "stdout",
     "output_type": "stream",
     "text": [
      "True\n",
      "False\n",
      "False\n",
      "False\n"
     ]
    }
   ],
   "source": [
    "# Turn the code into a function called eligibility. The function should take two arguments: the student's age and their previous GPA.\n",
    "\n",
    "def eligibility(age, GPA):\n",
    "    if age >= 18 and GPA >= 3.0:\n",
    "        return True\n",
    "    else:\n",
    "        return False\n",
    "print(eligibility(19, 3.5))\n",
    "print(eligibility(GPA=2.9, age=17))\n",
    "print(eligibility(22, 2.9))\n",
    "print(eligibility(GPA=3.3, age=17))"
   ]
  },
  {
   "cell_type": "markdown",
   "id": "61b9265b",
   "metadata": {},
   "source": [
    "-------"
   ]
  }
 ],
 "metadata": {
  "kernelspec": {
   "display_name": "Python 3 (ipykernel)",
   "language": "python",
   "name": "python3"
  },
  "language_info": {
   "codemirror_mode": {
    "name": "ipython",
    "version": 3
   },
   "file_extension": ".py",
   "mimetype": "text/x-python",
   "name": "python",
   "nbconvert_exporter": "python",
   "pygments_lexer": "ipython3",
   "version": "3.11.5"
  }
 },
 "nbformat": 4,
 "nbformat_minor": 5
}
